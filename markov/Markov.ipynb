{
 "cells": [
  {
   "cell_type": "code",
   "execution_count": 2,
   "metadata": {},
   "outputs": [],
   "source": [
    "import sys\n",
    "import numpy as np\n",
    "import numpy.random as rnd\n",
    "from numpy import linalg as LA\n",
    "import scipy.cluster.vq as vq\n",
    "import matplotlib.pyplot as plt"
   ]
  },
  {
   "cell_type": "code",
   "execution_count": 110,
   "metadata": {},
   "outputs": [],
   "source": [
    "states = ['A', 'B', 'C']\n",
    "indices = range(len(states))"
   ]
  },
  {
   "cell_type": "code",
   "execution_count": 111,
   "metadata": {},
   "outputs": [],
   "source": [
    "state2index = dict(zip(states, indices)) \n",
    "index2state = dict(zip(indices, states))"
   ]
  },
  {
   "cell_type": "code",
   "execution_count": 112,
   "metadata": {},
   "outputs": [],
   "source": [
    "P1 = np.array([[0.30, 0.20, 0.50], [0.50, 0.30, 0.20], [0.20, 0.50, 0.30]])\n",
    "\n",
    "P2 = np.array([[0.25, 0.10, 0.25], [0.50, 0.80, 0.50], [0.25, 0.10, 0.25]])"
   ]
  },
  {
   "cell_type": "code",
   "execution_count": 113,
   "metadata": {},
   "outputs": [],
   "source": [
    "def generateStateSequence(s, P, tau):\n",
    "    sseq = [s]\n",
    "    iold = state2index[s]\n",
    "    \n",
    "    for t in range(tau):\n",
    "        inew = rnd.choice(indices, p = P[:,iold])\n",
    "        sseq.append(index2state[inew])\n",
    "        iold = inew\n",
    "    \n",
    "    return sseq"
   ]
  },
  {
   "cell_type": "code",
   "execution_count": 38,
   "metadata": {},
   "outputs": [],
   "source": [
    "sseq = generateStateSequence('B', P2, 10)\n",
    "iseq = [state2index[s] for s in sseq]"
   ]
  },
  {
   "cell_type": "code",
   "execution_count": 39,
   "metadata": {},
   "outputs": [
    {
     "name": "stdout",
     "output_type": "stream",
     "text": [
      "['B', 'C', 'C', 'B', 'C', 'B', 'B', 'C', 'C', 'C', 'B']\n",
      "[1, 2, 2, 1, 2, 1, 1, 2, 2, 2, 1]\n"
     ]
    }
   ],
   "source": [
    "print(sseq)\n",
    "print(iseq)"
   ]
  },
  {
   "cell_type": "code",
   "execution_count": 40,
   "metadata": {},
   "outputs": [],
   "source": [
    "tmax = len(sseq)\n",
    "like1 = np.sum([ np.log(P1[iseq[t],iseq[t-1]]) for t in range(1,tmax) ]) \n",
    "like2 = np.sum([ np.log(P2[iseq[t],iseq[t-1]]) for t in range(1,tmax) ])"
   ]
  },
  {
   "cell_type": "code",
   "execution_count": 41,
   "metadata": {},
   "outputs": [
    {
     "name": "stdout",
     "output_type": "stream",
     "text": [
      "-11.72364649628588\n",
      "-13.369223455335854\n"
     ]
    }
   ],
   "source": [
    "print(like1)\n",
    "print(like2)"
   ]
  },
  {
   "cell_type": "markdown",
   "metadata": {},
   "source": [
    "# TASK 14.1 "
   ]
  },
  {
   "cell_type": "code",
   "execution_count": 42,
   "metadata": {},
   "outputs": [
    {
     "name": "stdout",
     "output_type": "stream",
     "text": [
      "State vectors at time 1 with initial pi[0]:\n",
      "[[0.25 0.   0.  ]\n",
      " [0.5  0.   0.  ]\n",
      " [0.25 0.   0.  ]]\n",
      "State vectors at time 1 with initial pi[1]:\n",
      "[[0.  0.1 0. ]\n",
      " [0.  0.8 0. ]\n",
      " [0.  0.1 0. ]]\n",
      "State vectors at time 1 with initial pi[2]:\n",
      "[[0.   0.   0.25]\n",
      " [0.   0.   0.5 ]\n",
      " [0.   0.   0.25]]\n",
      "State vectors at time 2 with initial pi[0]:\n",
      "[[0.0625 0.     0.    ]\n",
      " [0.25   0.     0.    ]\n",
      " [0.0625 0.     0.    ]]\n",
      "State vectors at time 2 with initial pi[1]:\n",
      "[[0.   0.01 0.  ]\n",
      " [0.   0.64 0.  ]\n",
      " [0.   0.01 0.  ]]\n",
      "State vectors at time 2 with initial pi[2]:\n",
      "[[0.     0.     0.0625]\n",
      " [0.     0.     0.25  ]\n",
      " [0.     0.     0.0625]]\n",
      "State vectors at time 4 with initial pi[0]:\n",
      "[[0.00390625 0.         0.        ]\n",
      " [0.0625     0.         0.        ]\n",
      " [0.00390625 0.         0.        ]]\n",
      "State vectors at time 4 with initial pi[1]:\n",
      "[[0.000e+00 1.000e-04 0.000e+00]\n",
      " [0.000e+00 4.096e-01 0.000e+00]\n",
      " [0.000e+00 1.000e-04 0.000e+00]]\n",
      "State vectors at time 4 with initial pi[2]:\n",
      "[[0.         0.         0.00390625]\n",
      " [0.         0.         0.0625    ]\n",
      " [0.         0.         0.00390625]]\n",
      "State vectors at time 8 with initial pi[0]:\n",
      "[[1.52587891e-05 0.00000000e+00 0.00000000e+00]\n",
      " [3.90625000e-03 0.00000000e+00 0.00000000e+00]\n",
      " [1.52587891e-05 0.00000000e+00 0.00000000e+00]]\n",
      "State vectors at time 8 with initial pi[1]:\n",
      "[[0.0000000e+00 1.0000000e-08 0.0000000e+00]\n",
      " [0.0000000e+00 1.6777216e-01 0.0000000e+00]\n",
      " [0.0000000e+00 1.0000000e-08 0.0000000e+00]]\n",
      "State vectors at time 8 with initial pi[2]:\n",
      "[[0.00000000e+00 0.00000000e+00 1.52587891e-05]\n",
      " [0.00000000e+00 0.00000000e+00 3.90625000e-03]\n",
      " [0.00000000e+00 0.00000000e+00 1.52587891e-05]]\n",
      "State vectors at time 16 with initial pi[0]:\n",
      "[[2.32830644e-10 0.00000000e+00 0.00000000e+00]\n",
      " [1.52587891e-05 0.00000000e+00 0.00000000e+00]\n",
      " [2.32830644e-10 0.00000000e+00 0.00000000e+00]]\n",
      "State vectors at time 16 with initial pi[1]:\n",
      "[[0.00000000e+00 1.00000000e-16 0.00000000e+00]\n",
      " [0.00000000e+00 2.81474977e-02 0.00000000e+00]\n",
      " [0.00000000e+00 1.00000000e-16 0.00000000e+00]]\n",
      "State vectors at time 16 with initial pi[2]:\n",
      "[[0.00000000e+00 0.00000000e+00 2.32830644e-10]\n",
      " [0.00000000e+00 0.00000000e+00 1.52587891e-05]\n",
      " [0.00000000e+00 0.00000000e+00 2.32830644e-10]]\n"
     ]
    }
   ],
   "source": [
    "t = [1, 2, 4, 8, 16]\n",
    "S = np.array([[1, 0, 0], [0, 1, 0], [0, 0, 1]])\n",
    "\n",
    "for i in t:\n",
    "    for j in range(len(S)):\n",
    "        print(\"State vectors at time %s with initial pi[%s]:\" % (i, j))\n",
    "        print(np.power(P2, i) * S[:,j])"
   ]
  },
  {
   "cell_type": "code",
   "execution_count": 43,
   "metadata": {},
   "outputs": [],
   "source": [
    "w1, v1 = LA.eigh(P1)\n",
    "w2, v2 = LA.eigh(P2)\n",
    "# L1 = v1 * P1 * np.transpose(v1)\n",
    "# L2 = v2 * P2 * np.transpose(v2)"
   ]
  },
  {
   "cell_type": "code",
   "execution_count": 44,
   "metadata": {},
   "outputs": [
    {
     "name": "stdout",
     "output_type": "stream",
     "text": [
      "[[-4.63673374e-01  7.07106781e-01 -5.33860471e-01]\n",
      " [ 7.54992718e-01  1.66533454e-16 -6.55733174e-01]\n",
      " [-4.63673374e-01 -7.07106781e-01 -5.33860471e-01]]\n",
      "[[ 0.8107488   0.26441939 -0.52227269]\n",
      " [-0.39094493 -0.41948761 -0.81926321]\n",
      " [-0.435716    0.86839653 -0.23672566]]\n"
     ]
    }
   ],
   "source": [
    "print(v1)\n",
    "print(v2)"
   ]
  },
  {
   "cell_type": "markdown",
   "metadata": {},
   "source": [
    "# TASK 14.2"
   ]
  },
  {
   "cell_type": "code",
   "execution_count": 45,
   "metadata": {},
   "outputs": [
    {
     "name": "stdout",
     "output_type": "stream",
     "text": [
      "{'A': 1452, 'B': 7146, 'C': 1402}\n",
      "Lilkihood of occuring A as last element 0.1452\n",
      "Lilkihood of occuring A as last element 0.7146\n",
      "Lilkihood of occuring A as last element 0.1402\n"
     ]
    }
   ],
   "source": [
    "tmax = 10000\n",
    "probemap = {}\n",
    "for k in states:\n",
    "    probemap[k] = 0\n",
    "    \n",
    "for i in range(tmax):\n",
    "    sseq = []\n",
    "    sseq = generateStateSequence('B', P2, 10)\n",
    "    probemap[sseq[-1]] += 1\n",
    "\n",
    "print(probemap)\n",
    "print(\"Lilkihood of occuring A as last element\", probemap['A']/tmax)\n",
    "print(\"Lilkihood of occuring A as last element\", probemap['B']/tmax)\n",
    "print(\"Lilkihood of occuring A as last element\", probemap['C']/tmax)"
   ]
  },
  {
   "cell_type": "markdown",
   "metadata": {},
   "source": [
    "# TASK 15.3"
   ]
  },
  {
   "cell_type": "code",
   "execution_count": 3,
   "metadata": {},
   "outputs": [],
   "source": [
    "matX = np.loadtxt('q3dm1-path1.csv', delimiter = ',')\n",
    "matY = np.loadtxt('q3dm1-path2.csv', delimiter = ',')\n",
    "matX = matX.T\n",
    "matY = matY.T"
   ]
  },
  {
   "cell_type": "code",
   "execution_count": 47,
   "metadata": {},
   "outputs": [],
   "source": [
    "matM, inds = vq.kmeans2(matX.T, k = 10, iter = 100, minit = '++')\n",
    "matN, indy = vq.kmeans2(matY.T, k = 10, iter = 100, minit = '++')\n",
    "matM = matM.T\n",
    "matN = matN.T"
   ]
  },
  {
   "cell_type": "code",
   "execution_count": 48,
   "metadata": {},
   "outputs": [
    {
     "data": {
      "image/png": "[encoded data removed]",
      "text/plain": [
       "<Figure size 432x288 with 1 Axes>"
      ]
     },
     "metadata": {
      "needs_background": "light"
     },
     "output_type": "display_data"
    }
   ],
   "source": [
    "fig = plt.figure()\n",
    "ax = plt.axes(projection='3d')\n",
    "x1_axis = matX[0, :]\n",
    "y1_axis = matX[1, :]\n",
    "z1_axis = matX[2, :]\n",
    "ax.plot3D(x1_axis, y1_axis, z1_axis, 'red');\n",
    "\n",
    "x1 = matM[0, :]\n",
    "y1 = matM[1, :]\n",
    "z1 = matM[2, :]\n",
    "ax.scatter3D(x1, y1, z1);"
   ]
  },
  {
   "cell_type": "code",
   "execution_count": 49,
   "metadata": {},
   "outputs": [
    {
     "data": {
      "image/png": "[encoded data removed]",
      "text/plain": [
       "<Figure size 432x288 with 1 Axes>"
      ]
     },
     "metadata": {
      "needs_background": "light"
     },
     "output_type": "display_data"
    }
   ],
   "source": [
    "fig = plt.figure()\n",
    "ax = plt.axes(projection='3d')\n",
    "x2_axis = matY[0, :]\n",
    "y2_axis = matY[1, :]\n",
    "z2_axis = matY[2, :]\n",
    "ax.plot3D(x2_axis, y2_axis, z2_axis, 'red');\n",
    "\n",
    "x2 = matN[0, :]\n",
    "y2 = matN[1, :]\n",
    "z2 = matN[2, :]\n",
    "ax.scatter3D(x2, y2, z2);"
   ]
  },
  {
   "cell_type": "code",
   "execution_count": 50,
   "metadata": {},
   "outputs": [],
   "source": [
    "s1 = []\n",
    "k = 10\n",
    "for i in range(len(matX.T)):\n",
    "    b = []\n",
    "    for j in range(k):\n",
    "        b.append(np.sqrt(np.sum(matM[:, j] - matX[:, i]) ** 2))\n",
    "    s1.append(b.index(min(b)))\n",
    "\n",
    "s2 = []\n",
    "for i in range(len(matY.T)):\n",
    "    b = []\n",
    "    for j in range(k):\n",
    "        b.append(np.sqrt(np.sum(matN[:, j] - matY[:, i]) ** 2))\n",
    "    s2.append(b.index(min(b)))"
   ]
  },
  {
   "cell_type": "code",
   "execution_count": 121,
   "metadata": {},
   "outputs": [],
   "source": [
    "def estimateStateTransitions(indices, iseq):\n",
    "    k = len(indices)\n",
    "    P = np.zeros((k, k))\n",
    "    for t in range(1, len(iseq)):\n",
    "        P[iseq[t], iseq[t-1]] += 1\n",
    "    \n",
    "    return np.divide(P, np.sum(P, axis = 0))"
   ]
  },
  {
   "cell_type": "code",
   "execution_count": 122,
   "metadata": {},
   "outputs": [],
   "source": [
    "indices = list(set(indy))\n",
    "p_new1 = estimateStateTransitions(indices, s1)\n",
    "p_new1 = np.round(p_new1, 2)\n",
    "p_new2 = estimateStateTransitions(indices, s2)\n",
    "p_new2 = np.round(p_new2, 2)"
   ]
  },
  {
   "cell_type": "code",
   "execution_count": 123,
   "metadata": {},
   "outputs": [
    {
     "name": "stdout",
     "output_type": "stream",
     "text": [
      "[[0.87 0.08 0.   0.   0.   0.   0.   0.   0.   0.09]\n",
      " [0.06 0.83 0.   0.   0.   0.   0.   0.   0.08 0.  ]\n",
      " [0.   0.   0.84 0.   0.   0.   0.06 0.   0.   0.09]\n",
      " [0.   0.   0.   0.94 0.   0.09 0.   0.   0.   0.  ]\n",
      " [0.   0.   0.   0.   0.81 0.09 0.   0.07 0.   0.  ]\n",
      " [0.   0.   0.   0.06 0.09 0.82 0.   0.   0.   0.  ]\n",
      " [0.   0.   0.08 0.   0.   0.   0.94 0.   0.   0.  ]\n",
      " [0.   0.   0.   0.   0.09 0.   0.   0.86 0.08 0.  ]\n",
      " [0.   0.08 0.   0.   0.   0.   0.   0.07 0.85 0.  ]\n",
      " [0.06 0.   0.09 0.   0.   0.   0.   0.   0.   0.83]]\n",
      "[[0.85 0.   0.05 0.   0.   0.   0.   0.09 0.   0.  ]\n",
      " [0.   0.8  0.   0.12 0.   0.   0.   0.   0.08 0.  ]\n",
      " [0.08 0.   0.88 0.   0.   0.   0.   0.   0.   0.05]\n",
      " [0.   0.11 0.   0.77 0.05 0.   0.   0.   0.   0.  ]\n",
      " [0.   0.   0.   0.11 0.89 0.   0.   0.   0.   0.06]\n",
      " [0.   0.   0.   0.   0.   0.94 0.   0.09 0.   0.  ]\n",
      " [0.   0.   0.   0.   0.   0.   0.93 0.   0.06 0.  ]\n",
      " [0.07 0.   0.   0.   0.   0.06 0.   0.82 0.   0.  ]\n",
      " [0.   0.1  0.   0.   0.   0.   0.07 0.   0.86 0.  ]\n",
      " [0.   0.   0.06 0.   0.06 0.   0.   0.   0.   0.89]]\n"
     ]
    }
   ],
   "source": [
    "print(p_new1)\n",
    "print(p_new2)"
   ]
  },
  {
   "cell_type": "markdown",
   "metadata": {},
   "source": [
    "# ADD ON 19 PART 2"
   ]
  },
  {
   "cell_type": "code",
   "execution_count": 87,
   "metadata": {},
   "outputs": [],
   "source": [
    "data = \"BBBCBBCBBBCBBBBBBBBBBBAABBBBABBABBCCBBBABABBBBBBBBBABBBCBABCBBBBABBCBBBCBBBBBBBBBBABBBABBABBCBBBBBBBAABBBBBBBAABBBCBABCCBBABBBBBBBBBBBABBABCCCBBBBBAABBCBBBBABBBBBBBBBBBBBABCBB\""
   ]
  },
  {
   "cell_type": "code",
   "execution_count": 88,
   "metadata": {},
   "outputs": [],
   "source": [
    "sseq = list(data)\n",
    "states = sorted(list(set(sseq))) \n",
    "indices = list(range(len(states)))"
   ]
  },
  {
   "cell_type": "code",
   "execution_count": 89,
   "metadata": {},
   "outputs": [],
   "source": [
    "iseq = [state2index[s] for s in sseq]"
   ]
  },
  {
   "cell_type": "code",
   "execution_count": 95,
   "metadata": {},
   "outputs": [
    {
     "data": {
      "text/plain": [
       "array([[0.17, 0.15, 0.  ],\n",
       "       [0.83, 0.74, 0.78],\n",
       "       [0.  , 0.11, 0.22]])"
      ]
     },
     "execution_count": 95,
     "metadata": {},
     "output_type": "execute_result"
    }
   ],
   "source": [
    "P3 = np.round(estimateStateTransitions(indices, iseq), 2)\n",
    "P3"
   ]
  },
  {
   "cell_type": "markdown",
   "metadata": {},
   "source": [
    "## Below solutions shows the numerical instablities of the markov model "
   ]
  },
  {
   "cell_type": "code",
   "execution_count": 80,
   "metadata": {},
   "outputs": [],
   "source": [
    "sq1 = \"BBCBBCBBBAC\"\n",
    "sq2 = \"BBCBBCBBBAC\"\n",
    "sq3 = \"BBCBBCBBBAC\""
   ]
  },
  {
   "cell_type": "code",
   "execution_count": 81,
   "metadata": {},
   "outputs": [
    {
     "name": "stdout",
     "output_type": "stream",
     "text": [
      "3.2400000000000003e-06\n",
      "2.5600000000000012e-05\n",
      "0.0\n"
     ]
    }
   ],
   "source": [
    "p1 = [P1[state2index[sq1[i]], state2index[sq1[i-1]]] for i in range(1, len(sq1))]\n",
    "p2 = [P2[state2index[sq2[i]], state2index[sq2[i-1]]] for i in range(1, len(sq2))]\n",
    "p3 = [P3[state2index[sq3[i]], state2index[sq3[i-1]]] for i in range(1, len(sq3))]\n",
    "\n",
    "print(np.prod(p1))\n",
    "print(np.prod(p2))\n",
    "print(np.prod(p3))"
   ]
  },
  {
   "cell_type": "code",
   "execution_count": 82,
   "metadata": {},
   "outputs": [
    {
     "name": "stdout",
     "output_type": "stream",
     "text": [
      "-12.639937228160035\n",
      "-10.572918206478757\n",
      "-inf\n"
     ]
    },
    {
     "name": "stderr",
     "output_type": "stream",
     "text": [
      "/Users/bndeepankan/Library/Python/3.7/lib/python/site-packages/ipykernel_launcher.py:3: RuntimeWarning: divide by zero encountered in log\n",
      "  This is separate from the ipykernel package so we can avoid doing imports until\n"
     ]
    }
   ],
   "source": [
    "p1 = [np.log(P1[state2index[sq1[i]], state2index[sq1[i-1]]]) for i in range(1, len(sq1))]\n",
    "p2 = [np.log(P2[state2index[sq2[i]], state2index[sq2[i-1]]]) for i in range(1, len(sq2))]\n",
    "p3 = [np.log(P3[state2index[sq3[i]], state2index[sq3[i-1]]]) for i in range(1, len(sq3))]\n",
    "\n",
    "print(np.sum(p1))\n",
    "print(np.sum(p2))\n",
    "print(np.sum(p3))"
   ]
  },
  {
   "cell_type": "markdown",
   "metadata": {},
   "source": [
    "## Adding a constant to the probability  "
   ]
  },
  {
   "cell_type": "code",
   "execution_count": 100,
   "metadata": {},
   "outputs": [
    {
     "data": {
      "text/plain": [
       "array([[0.21, 0.19, 0.08],\n",
       "       [0.72, 0.65, 0.68],\n",
       "       [0.08, 0.16, 0.25]])"
      ]
     },
     "execution_count": 100,
     "metadata": {},
     "output_type": "execute_result"
    }
   ],
   "source": [
    "P3 = np.round(estimateStateTransitions(indices, iseq), 2)\n",
    "P3 = np.add(P3, 0.1)\n",
    "P3 = np.round(np.divide(P3, np.sum(P3, axis=0)), 2)\n",
    "P3"
   ]
  },
  {
   "cell_type": "code",
   "execution_count": 101,
   "metadata": {},
   "outputs": [
    {
     "name": "stdout",
     "output_type": "stream",
     "text": [
      "3.2400000000000003e-06\n",
      "2.5600000000000012e-05\n",
      "3.21184667648e-05\n"
     ]
    }
   ],
   "source": [
    "p1 = [P1[state2index[sq1[i]], state2index[sq1[i-1]]] for i in range(1, len(sq1))]\n",
    "p2 = [P2[state2index[sq2[i]], state2index[sq2[i-1]]] for i in range(1, len(sq2))]\n",
    "p3 = [P3[state2index[sq3[i]], state2index[sq3[i-1]]] for i in range(1, len(sq3))]\n",
    "\n",
    "print(np.prod(p1))\n",
    "print(np.prod(p2))\n",
    "print(np.prod(p3))"
   ]
  },
  {
   "cell_type": "code",
   "execution_count": 102,
   "metadata": {},
   "outputs": [
    {
     "name": "stdout",
     "output_type": "stream",
     "text": [
      "-12.639937228160035\n",
      "-10.572918206478757\n",
      "-10.346079404620312\n"
     ]
    }
   ],
   "source": [
    "p1 = [np.log(P1[state2index[sq1[i]], state2index[sq1[i-1]]]) for i in range(1, len(sq1))]\n",
    "p2 = [np.log(P2[state2index[sq2[i]], state2index[sq2[i-1]]]) for i in range(1, len(sq2))]\n",
    "p3 = [np.log(P3[state2index[sq3[i]], state2index[sq3[i-1]]]) for i in range(1, len(sq3))]\n",
    "\n",
    "print(np.sum(p1))\n",
    "print(np.sum(p2))\n",
    "print(np.sum(p3))"
   ]
  },
  {
   "cell_type": "markdown",
   "metadata": {},
   "source": [
    "# TASK 16.1"
   ]
  },
  {
   "cell_type": "code",
   "execution_count": 22,
   "metadata": {},
   "outputs": [],
   "source": [
    "def findLikelihood1(curr, move, t):\n",
    "    room = states.index(curr)\n",
    "    move = states.index(move)\n",
    "    like = t*np.log(P2[room, room]) + np.log(1 - P2[move, room])\n",
    "    return like"
   ]
  },
  {
   "cell_type": "code",
   "execution_count": 23,
   "metadata": {},
   "outputs": [
    {
     "name": "stdout",
     "output_type": "stream",
     "text": [
      "Likelihood that it will not be at state B after 5 steps while starting from B :\n",
      "-2.725155669005149\n",
      "Likelihood that it will not be at state B after 10 steps while starting from B :\n",
      "-3.8408734255761976\n",
      "Likelihood that it will not be at state B after 100 steps while starting from B :\n",
      "-23.92379304385507\n"
     ]
    }
   ],
   "source": [
    "t = [5, 10, 100]\n",
    "curr = ['B', 'B', 'B']\n",
    "move = ['B', 'C', 'A']\n",
    "\n",
    "\n",
    "for k in range(len(t)):\n",
    "    print(\"Likelihood that it will not be at state %s after %s steps while starting from %s :\" % (move[0], t[k], curr[0]))\n",
    "    print(findLikelihood1(curr[0], move[0], t[k]))"
   ]
  },
  {
   "cell_type": "markdown",
   "metadata": {},
   "source": [
    "# TASK 16.2"
   ]
  },
  {
   "cell_type": "code",
   "execution_count": 24,
   "metadata": {},
   "outputs": [],
   "source": [
    "def findLikelihood2(curr, move, t):\n",
    "    room = states.index(curr)\n",
    "    move = states.index(move)\n",
    "    like = t*np.log(P2[room, room]) + np.log(P2[move, room])\n",
    "    return like"
   ]
  },
  {
   "cell_type": "code",
   "execution_count": 25,
   "metadata": {},
   "outputs": [
    {
     "name": "stdout",
     "output_type": "stream",
     "text": [
      "Likelihood that it will be at state C after 5 steps while starting from B :\n",
      "-3.418302849565094\n",
      "Likelihood that it will be at state C after 10 steps while starting from B :\n",
      "-4.534020606136142\n",
      "Likelihood that it will be at state C after 100 steps while starting from B :\n",
      "-24.616940224415018\n"
     ]
    }
   ],
   "source": [
    "for k in range(len(t)):\n",
    "    print(\"Likelihood that it will be at state %s after %s steps while starting from %s :\" % (move[1], t[k], curr[1]))\n",
    "    \n",
    "    print(findLikelihood2(curr[1], move[1], t[k]))"
   ]
  },
  {
   "cell_type": "markdown",
   "metadata": {},
   "source": [
    "# TASK 16.3"
   ]
  },
  {
   "cell_type": "code",
   "execution_count": 26,
   "metadata": {},
   "outputs": [],
   "source": [
    "def findLikelihood3(curr, move,t):\n",
    "    room = states.index(curr)\n",
    "    move = states.index(move)\n",
    "    mid = states.index('C')\n",
    "    like = (t-1)*(np.log(1 - P2[move, room]) + np.log(1 - P2[move, mid])) + np.log(1 - P2[move, room])\n",
    "    return like"
   ]
  },
  {
   "cell_type": "code",
   "execution_count": 27,
   "metadata": {},
   "outputs": [
    {
     "name": "stdout",
     "output_type": "stream",
     "text": [
      "Likelihood that it will not be at state A after 5 steps while starting from B :\n",
      "-1.677530868096255\n",
      "Likelihood that it will not be at state A after 10 steps while starting from B :\n",
      "-3.642743808644291\n",
      "Likelihood that it will not be at state A after 100 steps while starting from B :\n",
      "-39.01657673850894\n"
     ]
    }
   ],
   "source": [
    "for k in range(len(t)):\n",
    "    print(\"Likelihood that it will not be at state %s after %s steps while starting from %s :\" % (move[2], t[k], curr[2]))\n",
    "    \n",
    "    print(findLikelihood3(curr[2], move[2], t[k]))"
   ]
  },
  {
   "cell_type": "markdown",
   "metadata": {},
   "source": [
    "# SELF TEST 1"
   ]
  },
  {
   "cell_type": "markdown",
   "metadata": {},
   "source": [
    "# Inference with Markov models"
   ]
  },
  {
   "cell_type": "code",
   "execution_count": 28,
   "metadata": {},
   "outputs": [],
   "source": [
    "P1 = np.array([[0.3, 0.2, 0.5], [0.5, 0.3, 0.2], [0.2, 0.5, 0.3]])"
   ]
  },
  {
   "cell_type": "code",
   "execution_count": 29,
   "metadata": {},
   "outputs": [],
   "source": [
    "Pr1 = P1[state2index['B'], state2index['C']] * P1[state2index['A'], state2index['B']]\n",
    "Lg1 = np.log(P1[state2index['B'], state2index['C']]) + np.log(P1[state2index['A'], state2index['B']])"
   ]
  },
  {
   "cell_type": "code",
   "execution_count": 44,
   "metadata": {},
   "outputs": [
    {
     "name": "stdout",
     "output_type": "stream",
     "text": [
      "the NPC goes from room C to room B and then to room A Probability is 0.04\n",
      "the NPC goes from room C to room B and then to room A Liklihood is -3.22\n"
     ]
    }
   ],
   "source": [
    "print(\"the NPC goes from room C to room B and then to room A Probability is %s\" % np.round(Pr1, 2))\n",
    "print(\"the NPC goes from room C to room B and then to room A Liklihood is %s\" % np.round(Lg1, 2))"
   ]
  },
  {
   "cell_type": "code",
   "execution_count": 31,
   "metadata": {},
   "outputs": [],
   "source": [
    "Pr2 = P1[state2index['A'], state2index['C']] * P1[state2index['B'], state2index['A']]\n",
    "Lg2 = np.log(P1[state2index['A'], state2index['C']]) + np.log(P1[state2index['B'], state2index['A']])"
   ]
  },
  {
   "cell_type": "code",
   "execution_count": 45,
   "metadata": {},
   "outputs": [
    {
     "name": "stdout",
     "output_type": "stream",
     "text": [
      "the NPC goes from room C to room A and then to room B Probability is 0.25\n",
      "the NPC goes from room C to room A and then to room B Liklihood is -1.39\n"
     ]
    }
   ],
   "source": [
    "print(\"the NPC goes from room C to room A and then to room B Probability is %s\" % np.round(Pr2, 2))\n",
    "print(\"the NPC goes from room C to room A and then to room B Liklihood is %s\" % np.round(Lg2, 2))"
   ]
  },
  {
   "cell_type": "markdown",
   "metadata": {},
   "source": [
    "# Sampling a Markov model"
   ]
  },
  {
   "cell_type": "code",
   "execution_count": 135,
   "metadata": {},
   "outputs": [],
   "source": [
    "s = 200\n",
    "sseq = generateStateSequence('A', P1, s-1)"
   ]
  },
  {
   "cell_type": "code",
   "execution_count": 136,
   "metadata": {},
   "outputs": [
    {
     "name": "stdout",
     "output_type": "stream",
     "text": [
      "ABAABCCAABBCCACAABBCBACBCACBACBBCABABCCABBCACBBCACCCCAAABCCCABBCCCCCACBABCCBCBCBCCACBCCACACBAABBBBCAACBACBABBACACBAAAAACCABBACBABBCBBBCBCBACABCAAABABCCACBCBCBBACBAABABBCBACCAACAABBCBACBBBBCCCABBBCBCCC"
     ]
    }
   ],
   "source": [
    "for i in sseq:\n",
    "    print(i, end='')"
   ]
  },
  {
   "cell_type": "code",
   "execution_count": 139,
   "metadata": {},
   "outputs": [],
   "source": [
    "probemap = {}\n",
    "tmax = 1000\n",
    "for i in range(tmax):\n",
    "    probemap[i] = generateStateSequence('A', P1, s-1)"
   ]
  },
  {
   "cell_type": "code",
   "execution_count": 142,
   "metadata": {},
   "outputs": [],
   "source": [
    "liklihood = [0] * tmax\n",
    "\n",
    "for key, iseq in probemap.items():\n",
    "    liklihood[key] =np.sum([ np.log(P1[state2index[iseq[t]],state2index[iseq[t-1]]]) for t in range(1,s) ])\n",
    "\n",
    "# np.sum([ np.log(P1[iseq[t],iseq[t-1]]) for t in range(1,s) ])\n",
    "avgLog = sum(liklihood)/tmax"
   ]
  },
  {
   "cell_type": "code",
   "execution_count": 143,
   "metadata": {},
   "outputs": [
    {
     "name": "stdout",
     "output_type": "stream",
     "text": [
      "Average log liklihood -232.32172991380622\n"
     ]
    }
   ],
   "source": [
    "print(\"Average log liklihood %s\" % avgLog)"
   ]
  },
  {
   "cell_type": "code",
   "execution_count": 137,
   "metadata": {},
   "outputs": [
    {
     "name": "stdout",
     "output_type": "stream",
     "text": [
      "-229.97730539295696\n"
     ]
    },
    {
     "data": {
      "text/plain": [
       "array([[0.3, 0.2, 0.5],\n",
       "       [0.5, 0.3, 0.2],\n",
       "       [0.2, 0.5, 0.3]])"
      ]
     },
     "execution_count": 137,
     "metadata": {},
     "output_type": "execute_result"
    }
   ],
   "source": [
    "# Pahulmeet Code\n",
    "\n",
    "import numpy as np\n",
    "import numpy.linalg as la\n",
    "import numpy.random as rnd\n",
    "stateSpace = ['A', 'B', 'C']\n",
    "stateIndex = range(len(stateSpace))\n",
    "state2index = dict(zip(stateSpace, stateIndex))\n",
    "index2state = dict(zip(stateIndex, stateSpace))\n",
    "\n",
    "def generateStateSequence(s0, matP, n):\n",
    "    sequence = [s0]\n",
    "    for t in range(n):\n",
    "        i = state2index[sequence[t-1]]\n",
    "        j = rnd.choice(stateIndex, p=matP[:,i])\n",
    "        sequence.append(index2state[j])\n",
    "    return sequence\n",
    "\n",
    "matP = np.array([[0.3,0.2,0.5],[0.5,0.3,0.2],[0.2,0.5,0.3]])\n",
    "\n",
    "sseq=[]\n",
    "sseq.clear\n",
    "sseq=generateStateSequence('A', matP, 199)\n",
    "iseq = [state2index[s] for s in sseq]\n",
    "n = len(iseq)\n",
    "    \n",
    "prob = np.prod([ matP[iseq[t],iseq[t-1]] for t in range(1,n) ])\n",
    "like = np.sum([ np.log(matP[iseq[t],iseq[t-1]]) for t in range(1,n) ])\n",
    "print(like)"
   ]
  },
  {
   "cell_type": "markdown",
   "metadata": {},
   "source": [
    "# Learning a Markov model"
   ]
  },
  {
   "cell_type": "code",
   "execution_count": 116,
   "metadata": {},
   "outputs": [],
   "source": [
    "s = []\n",
    "for i in sseq:\n",
    "    s.append(state2index[i])"
   ]
  },
  {
   "cell_type": "code",
   "execution_count": 117,
   "metadata": {},
   "outputs": [],
   "source": [
    "indices = list(set(sseq))\n",
    "P_new = estimateStateTransitions(indices, s)"
   ]
  },
  {
   "cell_type": "code",
   "execution_count": 119,
   "metadata": {},
   "outputs": [
    {
     "data": {
      "text/plain": [
       "array([[0.25, 0.24, 0.38],\n",
       "       [0.59, 0.29, 0.29],\n",
       "       [0.15, 0.47, 0.32]])"
      ]
     },
     "execution_count": 119,
     "metadata": {},
     "output_type": "execute_result"
    }
   ],
   "source": [
    "P_new = np.round(P_new, 2) # New state transion probabilities based on the generated Sequence\n",
    "P_new"
   ]
  },
  {
   "cell_type": "markdown",
   "metadata": {},
   "source": [
    "# Stationary distribution a Markov model"
   ]
  },
  {
   "cell_type": "code",
   "execution_count": 71,
   "metadata": {},
   "outputs": [
    {
     "name": "stderr",
     "output_type": "stream",
     "text": [
      "/Users/bndeepankan/Library/Python/3.7/lib/python/site-packages/ipykernel_launcher.py:5: FutureWarning: `rcond` parameter will change to the default of machine precision times ``max(M, N)`` where M and N are the input matrix dimensions.\n",
      "To use the future default and silence this warning we advise to pass `rcond=None`, to keep using the old, explicitly pass `rcond=-1`.\n",
      "  \"\"\"\n"
     ]
    }
   ],
   "source": [
    "m = P1.shape[0]\n",
    "vecB = np.hstack((np.zeros(m), 1))\n",
    "matI = np.eye(m)\n",
    "matA = np.vstack((matI-P1, np.ones(m)))\n",
    "vecPI = np.linalg.lstsq(matA, vecB)[0]"
   ]
  },
  {
   "cell_type": "code",
   "execution_count": 72,
   "metadata": {},
   "outputs": [
    {
     "name": "stdout",
     "output_type": "stream",
     "text": [
      "[0.33 0.33 0.33]\n"
     ]
    }
   ],
   "source": [
    "vecPI = np.round(vecPI, 2)\n",
    "print(vecPI)"
   ]
  },
  {
   "cell_type": "code",
   "execution_count": 42,
   "metadata": {
    "scrolled": true
   },
   "outputs": [
    {
     "name": "stdout",
     "output_type": "stream",
     "text": [
      "ABCABAABABBCBBCACCAAAABBCBCACCCABCABCCCABBBACCBCCCBCABCBACCBBBCBCABAABBCAABCCBCAABBCCBCAABCCACAAABBCABCBBBBCABCCAABCABAABABCABCAAABCAACCBCCAABAABABCAABACABCACABBCCAAACCACBAACBCABCCABCABABBBBBCACABCCAB"
     ]
    }
   ],
   "source": [
    "for i in sseq:\n",
    "    print(i, end='')"
   ]
  },
  {
   "cell_type": "markdown",
   "metadata": {},
   "source": [
    "# Correct answer 16.3"
   ]
  },
  {
   "cell_type": "code",
   "execution_count": 2,
   "metadata": {},
   "outputs": [],
   "source": [
    "def allSequences(s0, states, tau): \n",
    "    sequences = [s0]\n",
    "    for t in range(tau):\n",
    "        new_sequences = []\n",
    "        for sequence in sequences:\n",
    "            for s in states: \n",
    "                new_sequences.append(sequence+s)\n",
    "        sequences = new_sequences \n",
    "    return sequences"
   ]
  },
  {
   "cell_type": "code",
   "execution_count": 5,
   "metadata": {},
   "outputs": [
    {
     "name": "stdout",
     "output_type": "stream",
     "text": [
      "BBBBBB\n",
      "BBBBBC\n",
      "BBBBCB\n",
      "BBBBCC\n",
      "BBBCBB\n",
      "BBBCBC\n",
      "BBBCCB\n",
      "BBBCCC\n",
      "BBCBBB\n",
      "BBCBBC\n",
      "BBCBCB\n",
      "BBCBCC\n",
      "BBCCBB\n",
      "BBCCBC\n",
      "BBCCCB\n",
      "BBCCCC\n",
      "BCBBBB\n",
      "BCBBBC\n",
      "BCBBCB\n",
      "BCBBCC\n",
      "BCBCBB\n",
      "BCBCBC\n",
      "BCBCCB\n",
      "BCBCCC\n",
      "BCCBBB\n",
      "BCCBBC\n",
      "BCCBCB\n",
      "BCCBCC\n",
      "BCCCBB\n",
      "BCCCBC\n",
      "BCCCCB\n",
      "BCCCCC\n"
     ]
    }
   ],
   "source": [
    "sequences = allSequences('B', ['B', 'C'], 5) \n",
    "for sequence in sequences:\n",
    "    print (''.join(sequence))"
   ]
  },
  {
   "cell_type": "code",
   "execution_count": 7,
   "metadata": {},
   "outputs": [],
   "source": [
    "def prob(sseq, matP):\n",
    "    iseq = [state2index[s] for s in sseq]\n",
    "    tmax = len(iseq)\n",
    "    return np.prod([ matP[iseq[t],iseq[t-1]] for t in range(1,tmax) ])\n"
   ]
  },
  {
   "cell_type": "code",
   "execution_count": 16,
   "metadata": {},
   "outputs": [
    {
     "name": "stdout",
     "output_type": "stream",
     "text": [
      "Probability for 5: 0.5412993750000002\n",
      "Log liklihood for 5: -0.613782779807619\n",
      "Probability for 10: 0.28474919653886727\n",
      "Log liklihood for 10: -1.2561464982958157\n"
     ]
    }
   ],
   "source": [
    "for tau in [5, 10]:\n",
    "    sequences = allSequences('B', ['B', 'C'], tau)\n",
    "    p = np.sum([prob(sequence, P2) for sequence in sequences])\n",
    "    print(\"Probability for %s:\" % tau, p)\n",
    "    L = np.log(p)\n",
    "    print(\"Log liklihood for %s:\" % tau, L)"
   ]
  },
  {
   "cell_type": "code",
   "execution_count": 14,
   "metadata": {},
   "outputs": [
    {
     "data": {
      "text/plain": [
       "-1.2561464982958157"
      ]
     },
     "execution_count": 14,
     "metadata": {},
     "output_type": "execute_result"
    }
   ],
   "source": [
    "L"
   ]
  },
  {
   "cell_type": "code",
   "execution_count": null,
   "metadata": {},
   "outputs": [],
   "source": []
  }
 ],
 "metadata": {
  "kernelspec": {
   "display_name": "Python 3",
   "language": "python",
   "name": "python3"
  },
  "language_info": {
   "codemirror_mode": {
    "name": "ipython",
    "version": 3
   },
   "file_extension": ".py",
   "mimetype": "text/x-python",
   "name": "python",
   "nbconvert_exporter": "python",
   "pygments_lexer": "ipython3",
   "version": "3.7.3"
  }
 },
 "nbformat": 4,
 "nbformat_minor": 4
}
