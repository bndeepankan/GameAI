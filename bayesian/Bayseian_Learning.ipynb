{
 "cells": [
  {
   "cell_type": "code",
   "execution_count": 2,
   "metadata": {},
   "outputs": [],
   "source": [
    "import numpy as np\n",
    "import networkx as nx\n",
    "import matplotlib.pyplot as plt\n",
    "import scipy.cluster.vq as vq"
   ]
  },
  {
   "cell_type": "code",
   "execution_count": 3,
   "metadata": {},
   "outputs": [],
   "source": [
    "matX = np.loadtxt('q3dm1-path2.csv', delimiter=',')"
   ]
  },
  {
   "cell_type": "markdown",
   "metadata": {},
   "source": [
    "# TASK 18.1"
   ]
  },
  {
   "cell_type": "code",
   "execution_count": 28,
   "metadata": {},
   "outputs": [],
   "source": [
    "m, n = matX.shape\n",
    "v = []\n",
    "for i in range(1, m):\n",
    "    v.append(list(matX[i] - matX[i-1]))\n",
    "\n",
    "v = np.array(v)"
   ]
  },
  {
   "cell_type": "markdown",
   "metadata": {},
   "source": [
    "# TASK 18.2"
   ]
  },
  {
   "cell_type": "code",
   "execution_count": 5,
   "metadata": {},
   "outputs": [],
   "source": [
    "def k_means(W, k, tmax=100):\n",
    "    \n",
    "    r, c = W.shape\n",
    "    m = np.random.choice([i for i in range(r)], k, replace=False)\n",
    "    means = []\n",
    "    for i in m:\n",
    "        means.append(list(W[i]))\n",
    "\n",
    "    cluster = {}\n",
    "\n",
    "    for i in range(tmax):\n",
    "        for j in range(k):\n",
    "            cluster[j] = []\n",
    "\n",
    "        for j in range(r):\n",
    "            cluster[np.argmin([np.sqrt(np.sum((W[j] - m) ** 2)) for m in means])].append(j)\n",
    "\n",
    "        for j in range(k):\n",
    "            if len(cluster[j]):\n",
    "                means[j] = np.sum(np.array([list(W[p]) for p in cluster[j]]), axis=0)/len(cluster[j])\n",
    "            else:\n",
    "                means[j] = np.zeros(k)\n",
    "\n",
    "    return [cluster, means]"
   ]
  },
  {
   "cell_type": "code",
   "execution_count": 6,
   "metadata": {},
   "outputs": [],
   "source": [
    "num_cluster = 9\n",
    "cluster, means = k_means(W=v, k=num_cluster)"
   ]
  },
  {
   "cell_type": "code",
   "execution_count": 7,
   "metadata": {},
   "outputs": [],
   "source": [
    "means, indy = vq.kmeans2(v, k = 9, iter = 100, minit = '++')"
   ]
  },
  {
   "cell_type": "markdown",
   "metadata": {},
   "source": [
    "# TASK 18.3"
   ]
  },
  {
   "cell_type": "code",
   "execution_count": 8,
   "metadata": {},
   "outputs": [],
   "source": [
    "clusterSOM = nx.read_gpickle('som.gpickle')"
   ]
  },
  {
   "cell_type": "code",
   "execution_count": 9,
   "metadata": {},
   "outputs": [],
   "source": [
    "s = []\n",
    "a = [0]\n",
    "    \n",
    "for i in range(len(matX)):\n",
    "    s.append(np.argmin([np.sum((matX[i] - clusterSOM.nodes[s_]['w']) ** 2) for s_ in clusterSOM.nodes]))\n",
    "\n",
    "for i in range(len(v)):\n",
    "    a.append(np.argmin([np.sum((v[i] - means[j]) ** 2) for j in range(num_cluster)]))"
   ]
  },
  {
   "cell_type": "code",
   "execution_count": 185,
   "metadata": {},
   "outputs": [
    {
     "data": {
      "text/plain": [
       "array([[0.01, 0.  , 0.  , 0.03, 0.  , 0.  , 0.  , 0.  , 0.  , 0.  , 0.04,\n",
       "        0.  , 0.  , 0.  , 0.  , 0.  , 0.  , 0.02, 0.29, 0.  ],\n",
       "       [0.  , 0.  , 0.  , 0.  , 0.46, 0.36, 0.  , 0.  , 0.  , 0.  , 0.  ,\n",
       "        0.  , 0.  , 0.  , 0.08, 0.66, 0.15, 0.02, 0.04, 0.  ],\n",
       "       [0.  , 0.  , 0.  , 0.  , 0.  , 0.08, 0.71, 0.46, 0.02, 0.  , 0.01,\n",
       "        0.17, 0.09, 0.36, 0.12, 0.  , 0.  , 0.  , 0.  , 0.  ],\n",
       "       [0.  , 0.  , 0.  , 0.42, 0.54, 0.03, 0.  , 0.  , 0.  , 0.  , 0.  ,\n",
       "        0.  , 0.  , 0.  , 0.  , 0.16, 0.59, 0.1 , 0.  , 0.  ],\n",
       "       [0.  , 0.  , 0.35, 0.45, 0.  , 0.  , 0.  , 0.  , 0.  , 0.  , 0.  ,\n",
       "        0.  , 0.  , 0.  , 0.  , 0.  , 0.25, 0.47, 0.25, 0.09],\n",
       "       [0.04, 0.  , 0.  , 0.  , 0.  , 0.  , 0.  , 0.03, 0.18, 0.34, 0.12,\n",
       "        0.38, 0.46, 0.09, 0.  , 0.  , 0.  , 0.  , 0.05, 0.15],\n",
       "       [0.92, 1.  , 0.65, 0.1 , 0.  , 0.  , 0.  , 0.  , 0.  , 0.25, 0.6 ,\n",
       "        0.  , 0.  , 0.  , 0.  , 0.  , 0.02, 0.4 , 0.37, 0.73],\n",
       "       [0.03, 0.  , 0.  , 0.  , 0.  , 0.  , 0.06, 0.51, 0.81, 0.41, 0.23,\n",
       "        0.46, 0.44, 0.36, 0.03, 0.  , 0.  , 0.  , 0.  , 0.03],\n",
       "       [0.  , 0.  , 0.  , 0.  , 0.  , 0.53, 0.23, 0.  , 0.  , 0.  , 0.  ,\n",
       "        0.  , 0.  , 0.19, 0.77, 0.18, 0.  , 0.  , 0.  , 0.  ]])"
      ]
     },
     "execution_count": 185,
     "metadata": {},
     "output_type": "execute_result"
    }
   ],
   "source": [
    "nodes = len(clusterSOM.nodes)\n",
    "p = np.zeros((num_cluster, nodes))\n",
    "\n",
    "t = len(matX)\n",
    "\n",
    "for k in range(1, t):\n",
    "    p[a[k], s[k]] += 1\n",
    "        \n",
    "p = np.round(np.divide(p, np.sum(p, axis=0)), 2)\n",
    "p"
   ]
  },
  {
   "cell_type": "code",
   "execution_count": 128,
   "metadata": {},
   "outputs": [],
   "source": [
    "def roulette_selection(p):\n",
    "\n",
    "    x = np.where(p>0)[0]\n",
    "    fitness = [0] * len(p)\n",
    "    fitness[x[0]] = p[x[0]]\n",
    "    for i in range(1, len(x)):\n",
    "        fitness[x[i]] = p[x[i]] + fitness[x[i-1]]\n",
    "    f = np.random.random()\n",
    "    for j in range(len(fitness)):\n",
    "        if f < fitness[j]:\n",
    "            return j\n",
    "        \n",
    "    return np.argmax(p)"
   ]
  },
  {
   "cell_type": "code",
   "execution_count": 179,
   "metadata": {},
   "outputs": [],
   "source": [
    "r, c = matX.shape\n",
    "\n",
    "def bayseian(num_cluster, clusterSOM, means, eta= 0.2, tmax=1000):\n",
    "    X = np.zeros((tmax, c))\n",
    "    n = len(clusterSOM.nodes)\n",
    "    for i in range(1, tmax):\n",
    "        state = np.argmin([np.sum((X[i-1] - clusterSOM.nodes[s_]['w']) ** 2) for s_ in clusterSOM.nodes])\n",
    "    \n",
    "        action = roulette_selection(p[:,state])\n",
    "\n",
    "        velocity1 = means[action]\n",
    "        velocity2 = clusterSOM.nodes[(state+1)%n]['w'] - X[i-1]\n",
    "        X[i] = X[i-1] + eta * velocity1 + (1 - eta) * velocity2\n",
    "#         X[i] = velocity1 + X[i-1]\n",
    "    \n",
    "    return X[10:]"
   ]
  },
  {
   "cell_type": "code",
   "execution_count": 180,
   "metadata": {},
   "outputs": [],
   "source": [
    "points = bayseian(num_cluster=9, clusterSOM=clusterSOM, means=means, tmax=10000)"
   ]
  },
  {
   "cell_type": "code",
   "execution_count": 181,
   "metadata": {},
   "outputs": [
    {
     "data": {
      "image/png": "[encoded data removed]",
      "text/plain": [
       "<Figure size 432x288 with 1 Axes>"
      ]
     },
     "metadata": {
      "needs_background": "light"
     },
     "output_type": "display_data"
    }
   ],
   "source": [
    "fig = plt.figure()\n",
    "ax = plt.axes(projection='3d')\n",
    "x1_axis = matX.T[0, :]\n",
    "y1_axis = matX.T[1, :]\n",
    "z1_axis = matX.T[2, :]\n",
    "ax.scatter3D(x1_axis, y1_axis, z1_axis, c = 'r', s=0.2);\n",
    "ax.scatter3D(points[:,0], points[:,1], points[:,2], c = 'b', s=2);"
   ]
  },
  {
   "cell_type": "code",
   "execution_count": 183,
   "metadata": {},
   "outputs": [
    {
     "data": {
      "text/plain": [
       "array([1.  , 1.  , 1.  , 1.  , 1.  , 1.  , 1.  , 1.  , 1.01, 1.  , 1.  ,\n",
       "       1.01, 0.99, 1.  , 1.  , 1.  , 1.01, 1.01, 1.  , 1.  ])"
      ]
     },
     "execution_count": 183,
     "metadata": {},
     "output_type": "execute_result"
    }
   ],
   "source": [
    "np.sum(p, axis=0)"
   ]
  },
  {
   "cell_type": "code",
   "execution_count": null,
   "metadata": {},
   "outputs": [],
   "source": []
  }
 ],
 "metadata": {
  "kernelspec": {
   "display_name": "Python 3",
   "language": "python",
   "name": "python3"
  },
  "language_info": {
   "codemirror_mode": {
    "name": "ipython",
    "version": 3
   },
   "file_extension": ".py",
   "mimetype": "text/x-python",
   "name": "python",
   "nbconvert_exporter": "python",
   "pygments_lexer": "ipython3",
   "version": "3.7.3"
  }
 },
 "nbformat": 4,
 "nbformat_minor": 4
}
