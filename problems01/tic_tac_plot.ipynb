{
 "cells": [
  {
   "cell_type": "code",
   "execution_count": 3,
   "metadata": {},
   "outputs": [],
   "source": [
    "import pandas as pd\n",
    "import numpy as np\n",
    "import matplotlib.pyplot as plt"
   ]
  },
  {
   "cell_type": "code",
   "execution_count": 75,
   "metadata": {},
   "outputs": [],
   "source": [
    "df = pd.read_csv('test.csv', names=[\"1\",\"2\",\"3\",\"4\",\"5\",\"6\",\"7\",\"8\",\"9\",\"result\"])"
   ]
  },
  {
   "cell_type": "code",
   "execution_count": 76,
   "metadata": {},
   "outputs": [
    {
     "name": "stdout",
     "output_type": "stream",
     "text": [
      "861\n",
      "139\n"
     ]
    }
   ],
   "source": [
    "win = 0\n",
    "draw = 0\n",
    "for i in df['result'] != 'draw':\n",
    "    if i:\n",
    "        win = win + 1\n",
    "    else:\n",
    "        draw = draw + 1\n",
    "\n",
    "print(win)\n",
    "print(draw)"
   ]
  },
  {
   "cell_type": "code",
   "execution_count": 77,
   "metadata": {},
   "outputs": [
    {
     "data": {
      "text/plain": [
       "Text(0, 0.5, 'Frequency')"
      ]
     },
     "execution_count": 77,
     "metadata": {},
     "output_type": "execute_result"
    },
    {
     "data": {
      "image/png": "[encoded data removed]",
      "text/plain": [
       "<Figure size 432x288 with 1 Axes>"
      ]
     },
     "metadata": {
      "needs_background": "light"
     },
     "output_type": "display_data"
    }
   ],
   "source": [
    "x = [\"win\", \"draw\"]\n",
    "y = [win, draw]\n",
    "\n",
    "plt.bar(x, y)\n",
    "plt.xlabel('Result')\n",
    "plt.ylabel('Frequency')"
   ]
  },
  {
   "cell_type": "code",
   "execution_count": 78,
   "metadata": {},
   "outputs": [],
   "source": [
    "df_w_x = df[df['result'] == 'x']\n",
    "df_w_o = df[df['result'] == 'o']"
   ]
  },
  {
   "cell_type": "code",
   "execution_count": 79,
   "metadata": {},
   "outputs": [],
   "source": [
    "def countVal(arr, val):\n",
    "    count = 0\n",
    "    for i in arr:\n",
    "        if i == val:\n",
    "            count = count + 1\n",
    "    return count"
   ]
  },
  {
   "cell_type": "code",
   "execution_count": 80,
   "metadata": {},
   "outputs": [],
   "source": [
    "winx_prob = []\n",
    "wino_prob = []\n",
    "df_w_x = df_w_x.drop(columns=\"result\")\n",
    "df_w_o = df_w_o.drop(columns=\"result\")\n",
    "header = df_w_x.columns.tolist()"
   ]
  },
  {
   "cell_type": "code",
   "execution_count": 81,
   "metadata": {},
   "outputs": [],
   "source": [
    "for i in header:\n",
    "    winx_prob.append(countVal(df_w_x[i].tolist(), 1))\n",
    "    wino_prob.append(countVal(df_w_o[i].tolist(), -1))"
   ]
  },
  {
   "cell_type": "code",
   "execution_count": 82,
   "metadata": {},
   "outputs": [],
   "source": [
    "total_w = sum(winx_prob)\n",
    "total_o = sum(wino_prob)\n",
    "for i in range(len(header)):\n",
    "    winx_prob[i] = winx_prob[i]/total_w\n",
    "    wino_prob[i] = wino_prob[i]/total_o"
   ]
  },
  {
   "cell_type": "code",
   "execution_count": 83,
   "metadata": {},
   "outputs": [
    {
     "name": "stdout",
     "output_type": "stream",
     "text": [
      "[4, 2, 6, 8, 0, 3, 5, 7, 1]\n",
      "[4, 2, 8, 0, 6, 5, 7, 1, 3]\n"
     ]
    }
   ],
   "source": [
    "priority_x = []\n",
    "priority_o = []\n",
    "for i in range(len(header)):\n",
    "    priority_x.append(winx_prob.index(max(winx_prob)))\n",
    "    priority_o.append(wino_prob.index(max(wino_prob)))\n",
    "    winx_prob[winx_prob.index(max(winx_prob))] = float('-inf')\n",
    "    wino_prob[wino_prob.index(max(wino_prob))] = float('-inf')\n",
    "print(priority_x)\n",
    "print(priority_o)"
   ]
  },
  {
   "cell_type": "code",
   "execution_count": null,
   "metadata": {},
   "outputs": [],
   "source": []
  },
  {
   "cell_type": "code",
   "execution_count": null,
   "metadata": {},
   "outputs": [],
   "source": []
  }
 ],
 "metadata": {
  "kernelspec": {
   "display_name": "Python 3",
   "language": "python",
   "name": "python3"
  },
  "language_info": {
   "codemirror_mode": {
    "name": "ipython",
    "version": 3
   },
   "file_extension": ".py",
   "mimetype": "text/x-python",
   "name": "python",
   "nbconvert_exporter": "python",
   "pygments_lexer": "ipython3",
   "version": "3.7.3"
  }
 },
 "nbformat": 4,
 "nbformat_minor": 4
}
